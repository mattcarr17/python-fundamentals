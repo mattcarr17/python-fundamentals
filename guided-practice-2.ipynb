{
 "cells": [
  {
   "cell_type": "markdown",
   "metadata": {},
   "source": [
    "# Python Fundamentals - Notebook 2"
   ]
  },
  {
   "cell_type": "markdown",
   "metadata": {},
   "source": [
    "### Area or Perimeter\n",
    "\n",
    "Write a function that accepts the length `l` and width `w` of a 4-sided polygon. The polygon can either be a rectangle or a square. If it is a square, return the area. If it is a rectange, return the perimeter. Assume the polygon is a square if the length is equal to width.\n",
    "\n",
    "```\n",
    "area_or_perimeter(6, 10) -> 32\n",
    "area_or_perimeter(3, 3) -> 9\n",
    "```"
   ]
  },
  {
   "cell_type": "code",
   "execution_count": null,
   "metadata": {},
   "outputs": [],
   "source": [
    "def area_or_perimeter(l, w):\n",
    "    # Your code here\n",
    "    pass"
   ]
  },
  {
   "cell_type": "code",
   "execution_count": null,
   "metadata": {},
   "outputs": [],
   "source": [
    "assert area_or_perimeter(6, 10) == 32\n",
    "assert area_or_perimeter(3, 3) == 9"
   ]
  },
  {
   "cell_type": "markdown",
   "metadata": {},
   "source": [
    "### Sum of Multiples\n",
    "\n",
    "Complete the function below. `sum_mul(n, m)` should return the sum of all multiples of `n` below `m`.\n",
    "\n",
    "- `n` and `m` are natural numbers (positive integers)\n",
    "- `m` is excluded from the multiples\n",
    "\n",
    "If invalid input is passed (non-natural numbers), the function should return the string `\"INVALID\"`\n",
    "\n",
    "```\n",
    "sum_mul(2, 9)   ==> 2 + 4 + 6 + 8 = 20\n",
    "sum_mul(3, 13)  ==> 3 + 6 + 9 + 12 = 30\n",
    "sum_mul(4, 123) ==> 4 + 8 + 12 + ... = 1860\n",
    "sum_mul(3, -7) ==> \"INVALID\"\n",
    "```"
   ]
  },
  {
   "cell_type": "code",
   "execution_count": null,
   "metadata": {},
   "outputs": [],
   "source": [
    "def sum_mul(n, m):\n",
    "    # Your code here\n",
    "    pass"
   ]
  },
  {
   "cell_type": "code",
   "execution_count": null,
   "metadata": {},
   "outputs": [],
   "source": [
    "assert sum_mul(2, 9) == 20\n",
    "assert sum_mul(3, 13) == 30\n",
    "assert sum_mul(4, 123) == 1860\n",
    "assert sum_mul(3, -7) == \"INVALID\""
   ]
  },
  {
   "cell_type": "markdown",
   "metadata": {},
   "source": [
    "### Isogram\n",
    "\n",
    "An isogram is a word with no repeating letters, consecutive or non-consecutive. Write a function `isogram(s)` which accepts a single string `s`, and returns `True` if `s` is an isogram or `False` if it is not. Your function should handle letter casing. Empty string should be considered an isogram\n",
    "\n",
    "```\n",
    "isogram(\"Dermatoglyphics\") -> True\n",
    "isogram(\"aba\") -> False\n",
    "isogram(\"moOse\") -> False\n",
    "isogram(\"\") -> True\n",
    "```"
   ]
  },
  {
   "cell_type": "code",
   "execution_count": null,
   "metadata": {},
   "outputs": [],
   "source": [
    "def isogram(s):\n",
    "    # Your code here\n",
    "    pass"
   ]
  },
  {
   "cell_type": "code",
   "execution_count": null,
   "metadata": {},
   "outputs": [],
   "source": [
    "assert isogram(\"Dermatoglyphics\") == True\n",
    "assert isogram(\"aba\") == False\n",
    "assert isogram(\"moOse\") == False\n",
    "assert isogram(\"\") == True"
   ]
  },
  {
   "cell_type": "markdown",
   "metadata": {},
   "source": [
    "### Total Savings\n",
    "\n",
    "A store recently placed a some orders to their vendor, who was having a large sale. The store would like to know what their total savings were across all of their orders. \n",
    "\n",
    "Write a function which accepts a list of items ordered and returns total savings across all items. Each item in the list is represented by a dictionary indicating the original price of the item, the sale price, and the quantity purchased.\n",
    "\n",
    "```\n",
    "[{'quantity': 496, 'original_price': 397, 'sale_price': 324},\n",
    " {'quantity': 427, 'original_price': 460, 'sale_price': 459},\n",
    " {'quantity': 193, 'original_price': 81, 'sale_price': 76}] -> 37600\n",
    "```"
   ]
  },
  {
   "cell_type": "code",
   "execution_count": null,
   "metadata": {},
   "outputs": [],
   "source": [
    "def total_savings(items):\n",
    "    # Your code here\n",
    "    pass"
   ]
  },
  {
   "cell_type": "code",
   "execution_count": null,
   "metadata": {},
   "outputs": [],
   "source": [
    "order1 = [{'quantity': 496, 'original_price': 397, 'sale_price': 324},\n",
    "          {'quantity': 427, 'original_price': 460, 'sale_price': 459},\n",
    "          {'quantity': 193, 'original_price': 81, 'sale_price': 76}]\n",
    "\n",
    "order2 = [{'quantity': 82, 'original_price': 295, 'sale_price': 256},\n",
    "          {'quantity': 207, 'original_price': 29, 'sale_price': 28},\n",
    "          {'quantity': 130, 'original_price': 376, 'sale_price': 355}]\n",
    "\n",
    "order3 = [{'quantity': 188, 'original_price': 5, 'sale_price': 4},\n",
    "          {'quantity': 375, 'original_price': 73, 'sale_price': 68},\n",
    "          {'quantity': 17, 'original_price': 58, 'sale_price': 47}]\n",
    "\n",
    "assert total_savings(order1) == 37600\n",
    "assert total_savings(order2) == 6135\n",
    "assert total_savings(order3) == 2250"
   ]
  },
  {
   "cell_type": "markdown",
   "metadata": {},
   "source": [
    "### Frequency Sequence\n",
    "\n",
    "Complete the function below. `freq_seq(s, sep)` accepts a string `s` and a separating character `sep`. The function should return the frequency sequence of the given string `s`, where each characer is replaced by the number of times it occured in the string separated by the character `sep`.\n",
    "\n",
    "```\n",
    "freq_seq(\"hello world\", \"-\"); // => \"1-1-3-3-2-1-1-2-1-3-1\"\n",
    "freq_seq(\"19999999\", \":\"); // => \"1:7:7:7:7:7:7:7\"\n",
    "freq_seq(\"^^^**$\", \"x\"); // => \"3x3x3x2x2x1\"\n",
    "```"
   ]
  },
  {
   "cell_type": "code",
   "execution_count": null,
   "metadata": {},
   "outputs": [],
   "source": [
    "def freq_seq(s, sep):\n",
    "    # Your code here\n",
    "    pass"
   ]
  },
  {
   "cell_type": "code",
   "execution_count": null,
   "metadata": {},
   "outputs": [],
   "source": [
    "assert freq_seq(\"hello world\", \"-\") == \"1-1-3-3-2-1-1-2-1-3-1\"\n",
    "assert freq_seq(\"19999999\", \":\") == \"1:7:7:7:7:7:7:7\"\n",
    "assert freq_seq(\"^^^**$\", \"x\") == \"3x3x3x2x2x1\""
   ]
  }
 ],
 "metadata": {
  "language_info": {
   "name": "python"
  },
  "orig_nbformat": 4
 },
 "nbformat": 4,
 "nbformat_minor": 2
}
