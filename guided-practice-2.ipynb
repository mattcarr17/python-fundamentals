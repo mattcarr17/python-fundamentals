{
 "cells": [
  {
   "cell_type": "markdown",
   "metadata": {},
   "source": [
    "# Python Fundamentals - Notebook 2"
   ]
  },
  {
   "cell_type": "markdown",
   "metadata": {},
   "source": [
    "### Area or Perimeter\n",
    "\n",
    "Write a function that accepts the length `l` and width `w` of a 4-sided polygon. The polygon can either be a rectangle or a square. If it is a square, return the area. If it is a rectange, return the perimeter. Assume the polygon is a square if the length is equal to width.\n",
    "\n",
    "```\n",
    "area_or_perimeter(6, 10) -> 32\n",
    "area_or_perimeter(3, 3) -> 9\n",
    "```"
   ]
  },
  {
   "cell_type": "code",
   "execution_count": 1,
   "metadata": {},
   "outputs": [],
   "source": [
    "def area_or_perimeter(l, w):\n",
    "\n",
    "    # Check if length is equal to width\n",
    "    if l == w:\n",
    "        # if so, return area (l * w)\n",
    "        return l * w\n",
    "\n",
    "    # if not, return perimeter\n",
    "    else:\n",
    "        return 2 * (l + w)"
   ]
  },
  {
   "cell_type": "code",
   "execution_count": 2,
   "metadata": {},
   "outputs": [],
   "source": [
    "# REFACTORED\n",
    "def area_or_perimeter(l, w):\n",
    "    return l * w if l == w else (l + w) * 2"
   ]
  },
  {
   "cell_type": "code",
   "execution_count": 3,
   "metadata": {},
   "outputs": [],
   "source": [
    "assert area_or_perimeter(6, 10) == 32\n",
    "assert area_or_perimeter(3, 3) == 9"
   ]
  },
  {
   "cell_type": "markdown",
   "metadata": {},
   "source": [
    "### Sum of Multiples\n",
    "\n",
    "Complete the function below. `sum_mul(n, m)` should return the sum of all multiples of `n` below `m`.\n",
    "\n",
    "- `n` and `m` are natural numbers (positive integers)\n",
    "- `m` is excluded from the multiples\n",
    "\n",
    "If invalid input is passed (non-natural numbers), the function should return the string `\"INVALID\"`\n",
    "\n",
    "```\n",
    "sum_mul(2, 9)   ==> 2 + 4 + 6 + 8 = 20\n",
    "sum_mul(3, 13)  ==> 3 + 6 + 9 + 12 = 30\n",
    "sum_mul(4, 123) ==> 4 + 8 + 12 + ... = 1860\n",
    "sum_mul(3, -7) ==> \"INVALID\"\n",
    "```"
   ]
  },
  {
   "cell_type": "code",
   "execution_count": 4,
   "metadata": {},
   "outputs": [],
   "source": [
    "def sum_mul(n, m):\n",
    "\n",
    "    # Ensure input is valid\n",
    "    if n > 0 and m > 0:\n",
    "        \n",
    "        # iterate over each multiple of n up to m and add to sum\n",
    "        sum = 0\n",
    "\n",
    "        for mult in range(n, m, n):\n",
    "            sum += mult\n",
    "        \n",
    "        # Return sum\n",
    "    \n",
    "    # Return \"INVALID\" if input is invalid\n",
    "    else:\n",
    "        return \"INVALID\""
   ]
  },
  {
   "cell_type": "code",
   "execution_count": 5,
   "metadata": {},
   "outputs": [],
   "source": [
    "# REFACTORED\n",
    "def sum_mul(n, m):\n",
    "    if m>0 and n>0:\n",
    "        return sum(range(n, m, n))\n",
    "    else:\n",
    "        return 'INVALID'"
   ]
  },
  {
   "cell_type": "code",
   "execution_count": 6,
   "metadata": {},
   "outputs": [],
   "source": [
    "# REFACTORED\n",
    "def sum_mul(n, m):\n",
    "    return sum(range(n, m, n)) if n > 0 and m > 0 else \"INVALID\""
   ]
  },
  {
   "cell_type": "code",
   "execution_count": 7,
   "metadata": {},
   "outputs": [],
   "source": [
    "assert sum_mul(2, 9) == 20\n",
    "assert sum_mul(3, 13) == 30\n",
    "assert sum_mul(4, 123) == 1860\n",
    "assert sum_mul(3, -7) == \"INVALID\""
   ]
  },
  {
   "cell_type": "markdown",
   "metadata": {},
   "source": [
    "### Isogram\n",
    "\n",
    "An isogram is a word with no repeating letters, consecutive or non-consecutive. Write a function `isogram(s)` which accepts a single string `s`, and returns `True` if `s` is an isogram or `False` if it is not. Your function should handle letter casing. Empty string should be considered an isogram\n",
    "\n",
    "```\n",
    "isogram(\"Dermatoglyphics\") -> True\n",
    "isogram(\"aba\") -> False\n",
    "isogram(\"moOse\") -> False\n",
    "isogram(\"\") -> True\n",
    "```"
   ]
  },
  {
   "cell_type": "code",
   "execution_count": 8,
   "metadata": {},
   "outputs": [],
   "source": [
    "def isogram(s):\n",
    "\n",
    "    is_isogram = True\n",
    "\n",
    "    # Make string lowercase\n",
    "    s_lower = s.lower()\n",
    "\n",
    "    for idx, char in enumerate(s_lower):\n",
    "\n",
    "        # Remove character from sring\n",
    "        temp = s_lower[:idx] + s_lower[idx+1:]\n",
    "\n",
    "        # If character is in \"temp\" then string is not isogram\n",
    "        if char in temp:\n",
    "            is_isogram = False\n",
    "        \n",
    "    return is_isogram"
   ]
  },
  {
   "cell_type": "code",
   "execution_count": 9,
   "metadata": {},
   "outputs": [],
   "source": [
    "# REFACTORED\n",
    "def isogram(s):\n",
    "    return len(s) == len(set(s.lower()))"
   ]
  },
  {
   "cell_type": "code",
   "execution_count": 10,
   "metadata": {},
   "outputs": [],
   "source": [
    "assert isogram(\"Dermatoglyphics\") == True\n",
    "assert isogram(\"aba\") == False\n",
    "assert isogram(\"moOse\") == False\n",
    "assert isogram(\"\") == True"
   ]
  },
  {
   "cell_type": "markdown",
   "metadata": {},
   "source": [
    "### Total Savings\n",
    "\n",
    "A store recently placed a some orders to their vendor, who was having a large sale. The store would like to know what their total savings were across all of their orders. \n",
    "\n",
    "Write a function which accepts a list of items ordered and returns total savings across all items. Each item in the list is represented by a dictionary indicating the original price of the item, the sale price, and the quantity purchased.\n",
    "\n",
    "```\n",
    "[{'quantity': 496, 'original_price': 397, 'sale_price': 324},\n",
    " {'quantity': 427, 'original_price': 460, 'sale_price': 459},\n",
    " {'quantity': 193, 'original_price': 81, 'sale_price': 76}] -> 37600\n",
    "```"
   ]
  },
  {
   "cell_type": "code",
   "execution_count": 11,
   "metadata": {},
   "outputs": [],
   "source": [
    "def total_savings(order_items):\n",
    "\n",
    "    # Set total savings equal to 0\n",
    "    total = 0\n",
    "\n",
    "    # iterate over each item in order\n",
    "    for item in order_items:\n",
    "\n",
    "        # Savings per unit is equal to original price - sale price\n",
    "        savings_per_unit = item['original_price'] - item['sale_price']\n",
    "\n",
    "        # Savings for item is equal to savings per unit * quantity purchased\n",
    "        item_savings = savings_per_unit * item['quantity']\n",
    "\n",
    "        # Add savings for item to total savings of order\n",
    "        total += item_savings\n",
    "\n",
    "    return total"
   ]
  },
  {
   "cell_type": "code",
   "execution_count": 12,
   "metadata": {},
   "outputs": [],
   "source": [
    "# REFACTORED\n",
    "def total_savings(order_items):\n",
    "    return sum([(item['original_price'] - item['sale_price']) * item['quantity'] for item in order_items])"
   ]
  },
  {
   "cell_type": "code",
   "execution_count": 13,
   "metadata": {},
   "outputs": [],
   "source": [
    "order1 = [{'quantity': 496, 'original_price': 397, 'sale_price': 324},\n",
    "          {'quantity': 427, 'original_price': 460, 'sale_price': 459},\n",
    "          {'quantity': 193, 'original_price': 81, 'sale_price': 76}]\n",
    "\n",
    "order2 = [{'quantity': 82, 'original_price': 295, 'sale_price': 256},\n",
    "          {'quantity': 207, 'original_price': 29, 'sale_price': 28},\n",
    "          {'quantity': 130, 'original_price': 376, 'sale_price': 355}]\n",
    "\n",
    "order3 = [{'quantity': 188, 'original_price': 5, 'sale_price': 4},\n",
    "          {'quantity': 375, 'original_price': 73, 'sale_price': 68},\n",
    "          {'quantity': 17, 'original_price': 58, 'sale_price': 47}]\n",
    "\n",
    "assert total_savings(order1) == 37600\n",
    "assert total_savings(order2) == 6135\n",
    "assert total_savings(order3) == 2250"
   ]
  },
  {
   "cell_type": "markdown",
   "metadata": {},
   "source": [
    "### Frequency Sequence\n",
    "\n",
    "Complete the function below. `freq_seq(s, sep)` accepts a string `s` and a separating character `sep`. The function should return the frequency sequence of the given string `s`, where each characer is replaced by the number of times it occured in the string separated by the character `sep`.\n",
    "\n",
    "```\n",
    "freq_seq(\"hello world\", \"-\"); // => \"1-1-3-3-2-1-1-2-1-3-1\"\n",
    "freq_seq(\"19999999\", \":\"); // => \"1:7:7:7:7:7:7:7\"\n",
    "freq_seq(\"^^^**$\", \"x\"); // => \"3x3x3x2x2x1\"\n",
    "```"
   ]
  },
  {
   "cell_type": "code",
   "execution_count": 14,
   "metadata": {},
   "outputs": [],
   "source": [
    "def freq_seq(s, sep):\n",
    "\n",
    "    # Create dictionary for how many times each character occured in string\n",
    "    freq_dict = {}\n",
    "\n",
    "    for char in s:\n",
    "        freq_dict[char] = freq_dict.get(char, 0) + 1\n",
    "\n",
    "    # Iterate over string and create list of frequency for each character\n",
    "    freq_lst = [str(freq_dict.get(c)) for c in s]\n",
    "\n",
    "    # Creating frequency sequence by joinin list using separating character\n",
    "    freq_str = sep.join(freq_lst)\n",
    "\n",
    "    return freq_str"
   ]
  },
  {
   "cell_type": "code",
   "execution_count": 15,
   "metadata": {},
   "outputs": [],
   "source": [
    "# REFACTORED\n",
    "def freq_seq(s, sep):\n",
    "    return sep.join([str(s.count(i)) for i in s])"
   ]
  },
  {
   "cell_type": "code",
   "execution_count": 16,
   "metadata": {},
   "outputs": [],
   "source": [
    "assert freq_seq(\"hello world\", \"-\") == \"1-1-3-3-2-1-1-2-1-3-1\"\n",
    "assert freq_seq(\"19999999\", \":\") == \"1:7:7:7:7:7:7:7\"\n",
    "assert freq_seq(\"^^^**$\", \"x\") == \"3x3x3x2x2x1\""
   ]
  },
  {
   "cell_type": "code",
   "execution_count": null,
   "metadata": {},
   "outputs": [],
   "source": []
  }
 ],
 "metadata": {
  "interpreter": {
   "hash": "c44c75da922efe9661426aa89b4223955be6269f9c5f03bd25ac7ec8280a8b85"
  },
  "kernelspec": {
   "display_name": "Python 3.9.7 ('ghg-analysis')",
   "language": "python",
   "name": "python3"
  },
  "language_info": {
   "codemirror_mode": {
    "name": "ipython",
    "version": 3
   },
   "file_extension": ".py",
   "mimetype": "text/x-python",
   "name": "python",
   "nbconvert_exporter": "python",
   "pygments_lexer": "ipython3",
   "version": "3.9.7"
  },
  "orig_nbformat": 4
 },
 "nbformat": 4,
 "nbformat_minor": 2
}
