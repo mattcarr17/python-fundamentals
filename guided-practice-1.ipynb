{
 "cells": [
  {
   "cell_type": "markdown",
   "metadata": {},
   "source": [
    "# Python Fundamentals 1"
   ]
  },
  {
   "cell_type": "markdown",
   "metadata": {},
   "source": [
    "### FizzBuzz\n",
    "\n",
    "Write a function that accepts a single integer. The function should return the following:\n",
    "- If the integer is divisible by 3, return \"Fizz\"\n",
    "- If the integer is divisible by 5, return \"Buzz\"\n",
    "- If the integer is divisible by both 3 and 5, return \"FizzBuzz\"\n",
    "- If the integer is not divisible by 3 or 5, return the integer"
   ]
  },
  {
   "cell_type": "code",
   "execution_count": null,
   "metadata": {},
   "outputs": [],
   "source": [
    "def fizzbuzz(num):\n",
    "    # your code here\n",
    "    pass"
   ]
  },
  {
   "cell_type": "code",
   "execution_count": null,
   "metadata": {},
   "outputs": [],
   "source": []
  },
  {
   "cell_type": "markdown",
   "metadata": {},
   "source": [
    "### Palindrome\n",
    "\n",
    "A palindrome is any word or phrase that reads the same backward as forward (eg. \"kayak\" or \"racecar\"). Write a function that accepts a string and returns `True` if the string is a palindrome and `False` if it is not."
   ]
  },
  {
   "cell_type": "code",
   "execution_count": null,
   "metadata": {},
   "outputs": [],
   "source": [
    "def is_palindrome(s):\n",
    "    # your code here\n",
    "    pass"
   ]
  },
  {
   "cell_type": "code",
   "execution_count": null,
   "metadata": {},
   "outputs": [],
   "source": []
  },
  {
   "cell_type": "markdown",
   "metadata": {},
   "source": [
    "### Calculate Profit\n",
    "\n",
    "You work for a manufacturer and have been asked to calculate the total profit made on the sales of a product. You are given a dictionary containing the cost per unit (dollars), sell price per unit (dollars), and the starting inventory. Write a function that returns the total profit made rounded to the nearest dollar. \n",
    "\n",
    "- profit({\n",
    "  \"cost_price\": 32.67,\n",
    "  \"sell_price\": 45.00,\n",
    "  \"inventory\": 1200\n",
    "}) ➞ 14796\n",
    "\n",
    "- profit({\n",
    "  \"cost_price\": 225.89,\n",
    "  \"sell_price\": 550.00,\n",
    "  \"inventory\": 100\n",
    "}) ➞ 32411\n",
    "\n",
    "You are then given *a list of dictionaries* and asked to calculate the profit across multiple items. Adjust the function to handle multiple items.\n",
    "\n",
    "- profit([{\"cost_price\": 32.67, \"sell_price\": 45.00, \"inventory\": 1200}, {\"cost_price\": 225.89, \"sell_price\": 550.00, \"inventory\": 100}]) -> 47,207"
   ]
  },
  {
   "cell_type": "code",
   "execution_count": null,
   "metadata": {},
   "outputs": [],
   "source": [
    "def profit(info):\n",
    "    # your code here\n",
    "    pass"
   ]
  },
  {
   "cell_type": "code",
   "execution_count": null,
   "metadata": {},
   "outputs": [],
   "source": [
    "info1 = {\n",
    "    \"cost_price\": 32.67,\n",
    "    \"sell_price\": 45.00,\n",
    "    \"inventory\": 1200\n",
    "}\n",
    "\n",
    "info2 = {\n",
    "    \"cost_price\": 225.89,\n",
    "    \"sell_price\": 550.00,\n",
    "    \"inventory\": 100\n",
    "}\n",
    "\n",
    "info_list = [info1, info2]"
   ]
  },
  {
   "cell_type": "code",
   "execution_count": null,
   "metadata": {},
   "outputs": [],
   "source": []
  },
  {
   "cell_type": "markdown",
   "metadata": {},
   "source": [
    "### Two Sum\n",
    "\n",
    "Given a list of integers and an integer target, return indices of the two numbers such that they add up to the target.\n",
    "\n",
    "You may assume that each input will have exactly one solution, and you may not use the same element twice.\n",
    "\n",
    "```\n",
    "Input: nums = [2, 7, 11, 15], target = 9\n",
    "Output: [0, 1]\n",
    "Output: Because nums[0] + nums[1] == 9\n",
    "```"
   ]
  },
  {
   "cell_type": "code",
   "execution_count": null,
   "metadata": {},
   "outputs": [],
   "source": [
    "def two_sum(nums, target):\n",
    "    # your code here\n",
    "    pass"
   ]
  },
  {
   "cell_type": "code",
   "execution_count": null,
   "metadata": {},
   "outputs": [],
   "source": [
    "# two_sum([3, 2, 4], 6)\n",
    "\n",
    "# two_sum([14, 6, 3, 25, 19, 72], 31)"
   ]
  }
 ],
 "metadata": {
  "interpreter": {
   "hash": "d56d6a5f2a8699d85bc719e5bd2733ecb51afd7fb00a7b715cfb04c2ba992f8a"
  },
  "kernelspec": {
   "display_name": "Python 3.9.5 64-bit ('solar-analysis': conda)",
   "language": "python",
   "name": "python3"
  },
  "language_info": {
   "name": "python",
   "version": "3.9.5"
  },
  "orig_nbformat": 4
 },
 "nbformat": 4,
 "nbformat_minor": 2
}
