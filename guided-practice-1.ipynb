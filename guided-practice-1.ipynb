{
 "cells": [
  {
   "cell_type": "markdown",
   "metadata": {},
   "source": [
    "# Python Fundamentals 1"
   ]
  },
  {
   "cell_type": "markdown",
   "metadata": {},
   "source": [
    "### FizzBuzz\n",
    "\n",
    "Write a function that accepts a single integer. The function should return the following:\n",
    "- If the integer is divisible by 3, return \"Fizz\"\n",
    "- If the integer is divisible by 5, return \"Buzz\"\n",
    "- If the integer is divisible by both 3 and 5, return \"FizzBuzz\"\n",
    "- If the integer is not divisible by 3 or 5, return the integer"
   ]
  },
  {
   "cell_type": "code",
   "execution_count": 5,
   "metadata": {},
   "outputs": [],
   "source": [
    "def fizzbuzz(num):\n",
    "    # your code here\n",
    "    \n",
    "    if num % 15 == 0:\n",
    "        return \"FizzBuzz\"\n",
    "    elif num % 3 == 0:\n",
    "        return \"Fizz\"\n",
    "    elif num % 5 == 0:\n",
    "        return 'Buzz'\n",
    "    else:\n",
    "        return num\n",
    "    "
   ]
  },
  {
   "cell_type": "code",
   "execution_count": 7,
   "metadata": {},
   "outputs": [
    {
     "data": {
      "text/plain": [
       "7"
      ]
     },
     "execution_count": 7,
     "metadata": {},
     "output_type": "execute_result"
    }
   ],
   "source": [
    "fizzbuzz(7)"
   ]
  },
  {
   "cell_type": "markdown",
   "metadata": {},
   "source": [
    "### Palindrome\n",
    "\n",
    "A palindrome is any word or phrase that reads the same backward as forward (eg. \"kayak\" or \"racecar\"). Write a function that accepts a string and returns `True` if the string is a palindrome and `False` if it is not."
   ]
  },
  {
   "cell_type": "code",
   "execution_count": 21,
   "metadata": {},
   "outputs": [],
   "source": [
    "def is_palindrome(s):\n",
    "    \n",
    "    # reverse_s = s[::-1]\n",
    "\n",
    "    # if reverse_s == s:\n",
    "    #   return True\n",
    "    # else:\n",
    "    #   return False\n",
    "\n",
    "    return s == s[::-1]\n",
    "    \n",
    "    "
   ]
  },
  {
   "cell_type": "code",
   "execution_count": 23,
   "metadata": {},
   "outputs": [
    {
     "data": {
      "text/plain": [
       "False"
      ]
     },
     "execution_count": 23,
     "metadata": {},
     "output_type": "execute_result"
    }
   ],
   "source": [
    "is_palindrome('mouse')"
   ]
  },
  {
   "cell_type": "markdown",
   "metadata": {},
   "source": [
    "### Calculate Profit\n",
    "\n",
    "You work for a manufacturer and have been asked to calculate the total profit made on the sales of a product. You are given a dictionary containing the cost per unit (dollars), sell price per unit (dollars), and the starting inventory. Write a function that returns the total profit made rounded to the nearest dollar. \n",
    "\n",
    "- profit({\n",
    "  \"cost_price\": 32.67,\n",
    "  \"sell_price\": 45.00,\n",
    "  \"inventory\": 1200\n",
    "}) ➞ 14796\n",
    "\n",
    "- profit({\n",
    "  \"cost_price\": 225.89,\n",
    "  \"sell_price\": 550.00,\n",
    "  \"inventory\": 100\n",
    "}) ➞ 32411\n",
    "\n",
    "You are then given *a list of dictionaries* and asked to calculate the profit across multiple items. Adjust the function to handle multiple items.\n",
    "\n",
    "- profit([{\"cost_price\": 32.67, \"sell_price\": 45.00, \"inventory\": 1200}, {\"cost_price\": 225.89, \"sell_price\": 550.00, \"inventory\": 100}]) -> 47,207"
   ]
  },
  {
   "cell_type": "code",
   "execution_count": 29,
   "metadata": {},
   "outputs": [],
   "source": [
    "def profit(info):\n",
    "\n",
    "    # total_cost = info['cost_price'] * info['inventory']\n",
    "    # total_sales = info['sell_price'] * info['inventory']\n",
    "    # profit_per_item = total_sales - total_cost\n",
    "    \n",
    "    total_profit = 0\n",
    "    for item in info:\n",
    "        total_cost = item['cost_price'] * item['inventory']\n",
    "        total_sales = item['sell_price'] * item['inventory']\n",
    "        profit_per_item = total_sales - total_cost\n",
    "        total_profit += profit_per_item\n",
    "    \n",
    "    \n",
    "    return total_profit"
   ]
  },
  {
   "cell_type": "code",
   "execution_count": 25,
   "metadata": {},
   "outputs": [],
   "source": [
    "info1 = {\n",
    "    \"cost_price\": 32.67,\n",
    "    \"sell_price\": 45.00,\n",
    "    \"inventory\": 1200\n",
    "}\n",
    "\n",
    "info2 = {\n",
    "    \"cost_price\": 225.89,\n",
    "    \"sell_price\": 550.00,\n",
    "    \"inventory\": 100\n",
    "}\n",
    "\n",
    "info_list = [info1, info2]"
   ]
  },
  {
   "cell_type": "code",
   "execution_count": 30,
   "metadata": {},
   "outputs": [
    {
     "data": {
      "text/plain": [
       "47207.0"
      ]
     },
     "execution_count": 30,
     "metadata": {},
     "output_type": "execute_result"
    }
   ],
   "source": [
    "profit(info_list)"
   ]
  },
  {
   "cell_type": "markdown",
   "metadata": {},
   "source": [
    "### Two Sum\n",
    "\n",
    "Given a list of integers and an integer target, return indices of the two numbers such that they add up to the target.\n",
    "\n",
    "You may assume that each input will have exactly one solution, and you may not use the same element twice.\n",
    "\n",
    "```\n",
    "Input: nums = [2, 7, 11, 15], target = 9\n",
    "Output: [0, 1]\n",
    "Output: Because nums[0] + nums[1] == 9\n",
    "```"
   ]
  },
  {
   "cell_type": "code",
   "execution_count": 39,
   "metadata": {},
   "outputs": [],
   "source": [
    "def two_sum(nums, target):\n",
    "\n",
    "    for i in range(0, len(nums)):\n",
    "        for j in range(i+1, len(nums)):\n",
    "            if nums[i] + nums[j] == target:\n",
    "                return [i, j]\n",
    "    \n",
    "    "
   ]
  },
  {
   "cell_type": "code",
   "execution_count": 41,
   "metadata": {},
   "outputs": [
    {
     "data": {
      "text/plain": [
       "[1, 3]"
      ]
     },
     "execution_count": 41,
     "metadata": {},
     "output_type": "execute_result"
    }
   ],
   "source": [
    "# two_sum([3, 2, 4], 6)\n",
    "\n",
    "two_sum([14, 6, 3, 25, 19, 72], 31)"
   ]
  },
  {
   "cell_type": "code",
   "execution_count": null,
   "metadata": {},
   "outputs": [],
   "source": []
  }
 ],
 "metadata": {
  "interpreter": {
   "hash": "d56d6a5f2a8699d85bc719e5bd2733ecb51afd7fb00a7b715cfb04c2ba992f8a"
  },
  "kernelspec": {
   "display_name": "Python 3",
   "language": "python",
   "name": "python3"
  },
  "language_info": {
   "codemirror_mode": {
    "name": "ipython",
    "version": 3
   },
   "file_extension": ".py",
   "mimetype": "text/x-python",
   "name": "python",
   "nbconvert_exporter": "python",
   "pygments_lexer": "ipython3",
   "version": "3.9.5"
  }
 },
 "nbformat": 4,
 "nbformat_minor": 2
}
